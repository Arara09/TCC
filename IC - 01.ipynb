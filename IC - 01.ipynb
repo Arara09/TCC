{
 "cells": [
  {
   "cell_type": "markdown",
   "id": "d4627da7",
   "metadata": {},
   "source": [
    "# Aprendendo a usar a NumCosmo\n",
    "\n",
    "Esse arquivo será de introdução, nele tentarei entender e explicar os comandos, funções, entre outros, que ocorrem na biblioteca NumCosmo.\n",
    "\n",
    "A biblioteca NumCosmo, que é uma abreviação para *Numerical Cosmology*, foi feita para testar modelos cosmológicos usando dados observacionais, ela também é equipada de diversas ferramentas que podem auxiliar o usuário a realizar cálculos que são feitos diversas vezes na área de cosmologia.\n",
    "\n"
   ]
  },
  {
   "cell_type": "markdown",
   "id": "07ca678f",
   "metadata": {},
   "source": [
    "## 1 - Iniciando um notebook\n",
    "\n",
    "Ao começar um novo notebook, é importante inicializar as bibliotecas *NumCosmo* e *NumCosmoMath*. Porém, antes iremos importar o módulo GI.\n",
    "\n",
    "Esse módulo é utilizado pela NumCosmo para fazer a tradução entre liguagens de programação; como a NumCosmo foi feita em 'C', mas queremos utilizá-la com Python, precisamos utilizar o *GObject*."
   ]
  },
  {
   "cell_type": "code",
   "execution_count": 2,
   "id": "fad0b8dd",
   "metadata": {},
   "outputs": [],
   "source": [
    "try:\n",
    "  import gi\n",
    "  gi.require_version('NumCosmo', '1.0')\n",
    "  gi.require_version('NumCosmoMath', '1.0')\n",
    "except:\n",
    "  pass\n",
    "\n",
    "from gi.repository import GObject\n",
    "from gi.repository import NumCosmo as Nc\n",
    "from gi.repository import NumCosmoMath as Ncm"
   ]
  },
  {
   "cell_type": "markdown",
   "id": "b622980a",
   "metadata": {},
   "source": [
    "Agora que já importamos a NumCosmo, com seus apelidos, será útil importar as bibliotecas clássicas para realizar cálculos e gráficos:\n",
    "\n",
    "- **Numpy**: Diversas funções matemáticas e formas mais práticas de utilizar matrizes\n",
    "- **Matplotlib**: Capaz de montar gráficos 2D e 3D de alta qualidade\n",
    "    - inline:  Utilizado em notebooks para o gráfico aparecer logo que é chamado, ao invés de no final \n",
    "- **sys**: Fornece informações e manipula o que o interpretador de python está utilizando\n",
    "- **math**: Conjunto de muitas funções matemáticas\n",
    "- **ipywidgets**: É utilizado para modificar os valores do gráfico e atualizá-lo em tempo real"
   ]
  },
  {
   "cell_type": "code",
   "execution_count": 3,
   "id": "b9e71fa5",
   "metadata": {},
   "outputs": [],
   "source": [
    "import numpy as np\n",
    "import matplotlib.pyplot as plt\n",
    "import sys\n",
    "%matplotlib inline\n",
    "import math\n",
    "\n",
    "import ipywidgets as widgets\n",
    "from ipywidgets import interactive\n",
    "from ipywidgets import FloatSlider"
   ]
  },
  {
   "cell_type": "markdown",
   "id": "7e548c80",
   "metadata": {},
   "source": [
    "### 1.1 - Iniciando a NumCosmo\n",
    "\n",
    "Depois de importar sua devidas bibliotecas, é importante que seu primeiro comando seja iniciar a biblioteca e direcionar seu *output* para o próprio notebook que estamos usando; isso é feito por meio dos códigos abaixo."
   ]
  },
  {
   "cell_type": "code",
   "execution_count": 4,
   "id": "fb76f656",
   "metadata": {},
   "outputs": [],
   "source": [
    "Ncm.cfg_init ()\n",
    "Ncm.cfg_set_log_handler (lambda msg: sys.stdout.write (msg) and sys.stdout.flush ())"
   ]
  },
  {
   "cell_type": "markdown",
   "id": "c28646de",
   "metadata": {},
   "source": [
    "## 2 - Utilizando algumas funções\n",
    "\n",
    "Agora que já temos tudo pronto, podemos começar a realizar algumas testes com as funções da biblioteca. Primeiro iremos utilizar a seção 'C' da *NumCosmoMath*.\n",
    "\n",
    "### 2.1 - [Seção C (Constantes)](https://numcosmo.github.io/manual/NcmC.html)\n",
    "\n",
    "Essa parte da *NumCosmoMath* é onde estão armazenadas diversas constante importantes para a cosmologia, que são utilizadas diversas vezes nas contas com que trabalharemos. Vou utilizar algumas aqui como exemplo:"
   ]
  },
  {
   "cell_type": "code",
   "execution_count": 5,
   "id": "7cc5347a",
   "metadata": {},
   "outputs": [
    {
     "data": {
      "text/plain": [
       "['AR',\n",
       " 'G',\n",
       " 'G_mass_solar',\n",
       " 'Glightyear_Mpc',\n",
       " 'HI_Lyman_wl3_8pi_2p_2P0_5',\n",
       " 'HI_Lyman_wl3_8pi_2p_2P3_5',\n",
       " 'HI_Lyman_wl3_8pi_2p_2Pmean',\n",
       " 'HI_Lyman_wl3_8pi_2s_2S0_5',\n",
       " 'HI_Lyman_wl_2p_2P0_5',\n",
       " 'HI_Lyman_wl_2p_2P3_5',\n",
       " 'HI_Lyman_wl_2p_2Pmean',\n",
       " 'HI_Lyman_wl_2s_2S0_5',\n",
       " 'HI_Lyman_wn_2p_2P0_5',\n",
       " 'HI_Lyman_wn_2p_2P3_5',\n",
       " 'HI_Lyman_wn_2p_2Pmean',\n",
       " 'HI_Lyman_wn_2s_2S0_5',\n",
       " 'HI_ion_E_1s_2S0_5',\n",
       " 'HI_ion_E_2p_2P0_5',\n",
       " 'HI_ion_E_2p_2P3_5',\n",
       " 'HI_ion_E_2p_2Pmean',\n",
       " 'HI_ion_E_2s_2S0_5',\n",
       " 'HI_ion_wn_1s_2S0_5',\n",
       " 'HI_ion_wn_2p_2P0_5',\n",
       " 'HI_ion_wn_2p_2P3_5',\n",
       " 'HI_ion_wn_2p_2Pmean',\n",
       " 'HI_ion_wn_2s_2S0_5',\n",
       " 'H_bind',\n",
       " 'H_reduced_energy',\n",
       " 'H_reduced_mass',\n",
       " 'HeII_ion_E_1s_2S0_5',\n",
       " 'HeII_ion_wn_1s_2S0_5',\n",
       " 'HeI_Balmer_E_kb_2p_1P1_2s_1S0',\n",
       " 'HeI_Balmer_E_kb_2p_3Pmean_2s_3S1',\n",
       " 'HeI_Balmer_wn_2p_1P1_2s_1S0',\n",
       " 'HeI_Balmer_wn_2p_3Pmean_2s_3S1',\n",
       " 'HeI_Lyman_wl3_8pi_2p_1P1',\n",
       " 'HeI_Lyman_wl3_8pi_2p_3P0',\n",
       " 'HeI_Lyman_wl3_8pi_2p_3P1',\n",
       " 'HeI_Lyman_wl3_8pi_2p_3P2',\n",
       " 'HeI_Lyman_wl3_8pi_2p_3Pmean',\n",
       " 'HeI_Lyman_wl3_8pi_2s_1S0',\n",
       " 'HeI_Lyman_wl3_8pi_2s_3S1',\n",
       " 'HeI_Lyman_wl_2p_1P1',\n",
       " 'HeI_Lyman_wl_2p_3P0',\n",
       " 'HeI_Lyman_wl_2p_3P1',\n",
       " 'HeI_Lyman_wl_2p_3P2',\n",
       " 'HeI_Lyman_wl_2p_3Pmean',\n",
       " 'HeI_Lyman_wl_2s_1S0',\n",
       " 'HeI_Lyman_wl_2s_3S1',\n",
       " 'HeI_Lyman_wn_2p_1P1',\n",
       " 'HeI_Lyman_wn_2p_3P0',\n",
       " 'HeI_Lyman_wn_2p_3P1',\n",
       " 'HeI_Lyman_wn_2p_3P2',\n",
       " 'HeI_Lyman_wn_2p_3Pmean',\n",
       " 'HeI_Lyman_wn_2s_1S0',\n",
       " 'HeI_Lyman_wn_2s_3S1',\n",
       " 'HeI_ion_E_1s_1S0',\n",
       " 'HeI_ion_E_2p_1P1',\n",
       " 'HeI_ion_E_2p_3P0',\n",
       " 'HeI_ion_E_2p_3P1',\n",
       " 'HeI_ion_E_2p_3P2',\n",
       " 'HeI_ion_E_2p_3Pmean',\n",
       " 'HeI_ion_E_2s_1S0',\n",
       " 'HeI_ion_E_2s_3S1',\n",
       " 'HeI_ion_wn_1s_1S0',\n",
       " 'HeI_ion_wn_2p_1P1',\n",
       " 'HeI_ion_wn_2p_3P0',\n",
       " 'HeI_ion_wn_2p_3P1',\n",
       " 'HeI_ion_wn_2p_3P2',\n",
       " 'HeI_ion_wn_2p_3Pmean',\n",
       " 'HeI_ion_wn_2s_1S0',\n",
       " 'HeI_ion_wn_2s_3S1',\n",
       " 'Mpc',\n",
       " 'Rinf',\n",
       " 'Ry',\n",
       " '__class__',\n",
       " '__copy__',\n",
       " '__deepcopy__',\n",
       " '__delattr__',\n",
       " '__dict__',\n",
       " '__dir__',\n",
       " '__doc__',\n",
       " '__eq__',\n",
       " '__format__',\n",
       " '__gdoc__',\n",
       " '__ge__',\n",
       " '__getattribute__',\n",
       " '__gpointer__',\n",
       " '__grefcount__',\n",
       " '__gsignals__',\n",
       " '__gt__',\n",
       " '__gtype__',\n",
       " '__hash__',\n",
       " '__info__',\n",
       " '__init__',\n",
       " '__init_subclass__',\n",
       " '__le__',\n",
       " '__lt__',\n",
       " '__module__',\n",
       " '__ne__',\n",
       " '__new__',\n",
       " '__reduce__',\n",
       " '__reduce_ex__',\n",
       " '__repr__',\n",
       " '__setattr__',\n",
       " '__sizeof__',\n",
       " '__str__',\n",
       " '__subclasshook__',\n",
       " '_force_floating',\n",
       " '_ref',\n",
       " '_ref_sink',\n",
       " '_unref',\n",
       " '_unsupported_data_method',\n",
       " '_unsupported_method',\n",
       " 'au',\n",
       " 'bind_property',\n",
       " 'bind_property_full',\n",
       " 'blackbody_energy_density',\n",
       " 'blackbody_per_crit_density_h2',\n",
       " 'boltzmann_factor_HI_1s_2S0_5',\n",
       " 'boltzmann_factor_HI_2p_2P0_5',\n",
       " 'boltzmann_factor_HI_2p_2P3_5',\n",
       " 'boltzmann_factor_HI_2p_2Pmean',\n",
       " 'boltzmann_factor_HI_2s_2S0_5',\n",
       " 'boltzmann_factor_HeI_1s_1S0',\n",
       " 'boltzmann_factor_HeI_2p_1P1',\n",
       " 'boltzmann_factor_HeI_2p_3P0',\n",
       " 'boltzmann_factor_HeI_2p_3P1',\n",
       " 'boltzmann_factor_HeI_2p_3P2',\n",
       " 'boltzmann_factor_HeI_2p_3Pmean',\n",
       " 'boltzmann_factor_HeI_2s_1S0',\n",
       " 'boltzmann_factor_HeI_2s_3S1',\n",
       " 'c',\n",
       " 'c2',\n",
       " 'chain',\n",
       " 'compat_control',\n",
       " 'connect',\n",
       " 'connect_after',\n",
       " 'connect_data',\n",
       " 'connect_object',\n",
       " 'connect_object_after',\n",
       " 'crit_density_h2',\n",
       " 'crit_mass_density_h2',\n",
       " 'crit_mass_density_h2_solar_mass_Mpc3',\n",
       " 'crit_number_density_n',\n",
       " 'crit_number_density_p',\n",
       " 'decay_H_rate_2s_1s',\n",
       " 'decay_He_rate_2s_1s',\n",
       " 'degree_to_radian',\n",
       " 'disconnect',\n",
       " 'disconnect_by_func',\n",
       " 'eV',\n",
       " 'emit',\n",
       " 'emit_stop_by_name',\n",
       " 'find_property',\n",
       " 'fine_struct',\n",
       " 'fine_struct_square',\n",
       " 'force_floating',\n",
       " 'freeze_notify',\n",
       " 'g_type_instance',\n",
       " 'get_data',\n",
       " 'get_properties',\n",
       " 'get_property',\n",
       " 'get_qdata',\n",
       " 'getv',\n",
       " 'h',\n",
       " 'handler_block',\n",
       " 'handler_block_by_func',\n",
       " 'handler_disconnect',\n",
       " 'handler_is_connected',\n",
       " 'handler_unblock',\n",
       " 'handler_unblock_by_func',\n",
       " 'hbar',\n",
       " 'hc',\n",
       " 'hubble_cte_hst',\n",
       " 'hubble_cte_planck6_base',\n",
       " 'hubble_radius_hm1_Mpc',\n",
       " 'hubble_radius_hm1_planck',\n",
       " 'install_properties',\n",
       " 'install_property',\n",
       " 'interface_find_property',\n",
       " 'interface_install_property',\n",
       " 'interface_list_properties',\n",
       " 'is_floating',\n",
       " 'kb',\n",
       " 'kpc',\n",
       " 'lightyear',\n",
       " 'lightyear_pc',\n",
       " 'list_properties',\n",
       " 'mass_1H',\n",
       " 'mass_1H_u',\n",
       " 'mass_2H',\n",
       " 'mass_2H_u',\n",
       " 'mass_3H',\n",
       " 'mass_3H_u',\n",
       " 'mass_3He',\n",
       " 'mass_3He_u',\n",
       " 'mass_4He',\n",
       " 'mass_4He_u',\n",
       " 'mass_atomic',\n",
       " 'mass_e',\n",
       " 'mass_n',\n",
       " 'mass_p',\n",
       " 'mass_ratio_4He_1H',\n",
       " 'mass_ratio_alpha_p',\n",
       " 'mass_ratio_e_p',\n",
       " 'mass_solar',\n",
       " 'newv',\n",
       " 'notify',\n",
       " 'notify_by_pspec',\n",
       " 'override_property',\n",
       " 'parent_instance',\n",
       " 'pc',\n",
       " 'planck_length',\n",
       " 'planck_length2',\n",
       " 'props',\n",
       " 'qdata',\n",
       " 'radian_0_2pi',\n",
       " 'radian_to_degree',\n",
       " 'ref',\n",
       " 'ref_count',\n",
       " 'ref_sink',\n",
       " 'replace_data',\n",
       " 'replace_qdata',\n",
       " 'rest_energy_1H',\n",
       " 'rest_energy_2H',\n",
       " 'rest_energy_3H',\n",
       " 'rest_energy_3He',\n",
       " 'rest_energy_4He',\n",
       " 'rest_energy_atomic',\n",
       " 'rest_energy_e',\n",
       " 'rest_energy_n',\n",
       " 'rest_energy_p',\n",
       " 'run_dispose',\n",
       " 'set_data',\n",
       " 'set_properties',\n",
       " 'set_property',\n",
       " 'sign_sin',\n",
       " 'steal_data',\n",
       " 'steal_qdata',\n",
       " 'stefan_boltzmann',\n",
       " 'stop_emission',\n",
       " 'stop_emission_by_name',\n",
       " 'thaw_notify',\n",
       " 'thermal_wl_e',\n",
       " 'thermal_wl_n',\n",
       " 'thermal_wl_p',\n",
       " 'thermal_wn_e',\n",
       " 'thermal_wn_n',\n",
       " 'thermal_wn_p',\n",
       " 'thomson_cs',\n",
       " 'unref',\n",
       " 'watch_closure',\n",
       " 'weak_ref',\n",
       " 'wmap5_coadded_I_K',\n",
       " 'wmap5_coadded_I_Ka',\n",
       " 'wmap5_coadded_I_Q',\n",
       " 'wmap5_coadded_I_V',\n",
       " 'wmap5_coadded_I_W',\n",
       " 'year']"
      ]
     },
     "execution_count": 5,
     "metadata": {},
     "output_type": "execute_result"
    }
   ],
   "source": [
    "dir(Ncm.C)"
   ]
  },
  {
   "cell_type": "code",
   "execution_count": 6,
   "id": "6a468a6b",
   "metadata": {},
   "outputs": [
    {
     "data": {
      "text/plain": [
       "9460730472580800.0"
      ]
     },
     "execution_count": 6,
     "metadata": {},
     "output_type": "execute_result"
    }
   ],
   "source": [
    "Ncm.C.lightyear()"
   ]
  },
  {
   "cell_type": "code",
   "execution_count": 7,
   "id": "6aba9ab2",
   "metadata": {},
   "outputs": [
    {
     "data": {
      "text/plain": [
       "31557600.0"
      ]
     },
     "execution_count": 7,
     "metadata": {},
     "output_type": "execute_result"
    }
   ],
   "source": [
    "Ncm.C.year()"
   ]
  },
  {
   "cell_type": "code",
   "execution_count": 8,
   "id": "7f8ea20e",
   "metadata": {},
   "outputs": [
    {
     "data": {
      "text/plain": [
       "1.6735328383153192e-27"
      ]
     },
     "execution_count": 8,
     "metadata": {},
     "output_type": "execute_result"
    }
   ],
   "source": [
    "Ncm.C.mass_1H()"
   ]
  },
  {
   "cell_type": "code",
   "execution_count": 9,
   "id": "7d1c9602",
   "metadata": {},
   "outputs": [
    {
     "data": {
      "text/plain": [
       "6.6743e-11"
      ]
     },
     "execution_count": 9,
     "metadata": {},
     "output_type": "execute_result"
    }
   ],
   "source": [
    "Ncm.C.G()"
   ]
  },
  {
   "cell_type": "markdown",
   "id": "eb0030a8",
   "metadata": {},
   "source": [
    "### 2.2 - [Seção de Modelos Cosmológicos](https://numcosmo.github.io/manual/ch03.html)\n",
    "\n",
    "Agora sairemos da *NumCosmoMath* e voltaremos para a *NumCosmo* para trabalharmos com diferentes modelos cosmológicos. Essa parte da biblioteca inicia com uma classe-mãe chamada *Nc.HICosmo*, ela é uma classe abstrata que define modelos cosmológicos para um universo homogêneo e isotrópico em largas escalas. \n",
    "\n",
    "A partir dela teremos diversas outras classes-filhas que possuem métodos específicos para trabalhar em diferentes problemas; um exemplo que será bastante utilizado é o da classe *Nc.HICosmoDE*, para implementar modelos com *Dark Energy*, e suas classes filhas, que utilizam equações de estado diferentes para *Dark Energy*.\n",
    "\n",
    "Vamos mostrar um exemplo de modelo:"
   ]
  },
  {
   "cell_type": "code",
   "execution_count": 10,
   "id": "d4bce3b8",
   "metadata": {},
   "outputs": [],
   "source": [
    "cosmo = Nc.HICosmoDEXcdm.new()"
   ]
  },
  {
   "cell_type": "markdown",
   "id": "c93caef7",
   "metadata": {},
   "source": [
    "Criamos o objeto 'cosmo' do modelo \"DEXcdm\" - que significa um modelo que implementa *Dark Energy*(DE), com equação de estado constante(X) e com a matéria escura sendo majoritariamente fria(cdm) - agora podemos utilizar todos os métodos e parâmetros dessa classe e de suas ancestrais. Contudo, sera agradável utilizar outra função para mostrar todos esses parâmetros antes.\n",
    "\n",
    "#### 2.2.1 - [Seção Model Set](https://numcosmo.github.io/manual/NcmMSet.html#)\n",
    "\n",
    "Nessa seção encontraremos uma função que ajudará a mostrar os valores dos parâmetros do modelo cosmológico. Iremos, primeiro, fornecer nosso objeto e depois chamar a função *pretty_log* para imprimir o que buscamos."
   ]
  },
  {
   "cell_type": "code",
   "execution_count": 11,
   "id": "ca96a08b",
   "metadata": {},
   "outputs": [
    {
     "name": "stdout",
     "output_type": "stream",
     "text": [
      "#----------------------------------------------------------------------------------\n",
      "# Model[03000]:\n",
      "#   - NcHICosmo : XCDM - Constant EOS\n",
      "#----------------------------------------------------------------------------------\n",
      "# Model parameters\n",
      "#   -      H0[00]:  67.36               [FIXED]\n",
      "#   -  Omegac[01]:  0.2568              [FIXED]\n",
      "#   -  Omegax[02]:  0.7                 [FIXED]\n",
      "#   - Tgamma0[03]:  2.7245              [FIXED]\n",
      "#   -      Yp[04]:  0.24                [FIXED]\n",
      "#   -    ENnu[05]:  3.046               [FIXED]\n",
      "#   -  Omegab[06]:  0.0432              [FIXED]\n",
      "#   -       w[07]: -1                   [FIXED]\n"
     ]
    }
   ],
   "source": [
    "mset = Ncm.MSet.new_array([cosmo])\n",
    "mset.pretty_log()"
   ]
  },
  {
   "cell_type": "markdown",
   "id": "f9baf375",
   "metadata": {},
   "source": [
    "Com isso, podemos alterar o valor dessas constantes para fazer experimentações no nosso modelo."
   ]
  },
  {
   "cell_type": "code",
   "execution_count": 12,
   "id": "1b08749d",
   "metadata": {},
   "outputs": [],
   "source": [
    "cosmo.param_set_by_name('Omegac', 0.9)\n",
    "cosmo.param_set_by_name('Omegax', 0)\n",
    "cosmo.param_set_by_name('Omegab', 0.1)"
   ]
  },
  {
   "cell_type": "code",
   "execution_count": 13,
   "id": "d2335425",
   "metadata": {},
   "outputs": [
    {
     "name": "stdout",
     "output_type": "stream",
     "text": [
      "#----------------------------------------------------------------------------------\n",
      "# Model[03000]:\n",
      "#   - NcHICosmo : XCDM - Constant EOS\n",
      "#----------------------------------------------------------------------------------\n",
      "# Model parameters\n",
      "#   -      H0[00]:  67.36               [FIXED]\n",
      "#   -  Omegac[01]:  0.9                 [FIXED]\n",
      "#   -  Omegax[02]:  0                   [FIXED]\n",
      "#   - Tgamma0[03]:  2.7245              [FIXED]\n",
      "#   -      Yp[04]:  0.24                [FIXED]\n",
      "#   -    ENnu[05]:  3.046               [FIXED]\n",
      "#   -  Omegab[06]:  0.1                 [FIXED]\n",
      "#   -       w[07]: -1                   [FIXED]\n"
     ]
    }
   ],
   "source": [
    "mset.pretty_log()"
   ]
  },
  {
   "cell_type": "code",
   "execution_count": 14,
   "id": "536ad5f2",
   "metadata": {},
   "outputs": [],
   "source": [
    "cosmo.param_set_by_name('Omegac', 0.2568)\n",
    "cosmo.param_set_by_name('Omegax', 0.7)\n",
    "cosmo.param_set_by_name('Omegab', 0.0432)"
   ]
  },
  {
   "cell_type": "markdown",
   "id": "ccd6cdef",
   "metadata": {},
   "source": [
    "#### 2.2.2 - Função de Hubble Normalizada (E)\n",
    "\n",
    "A função de Hubble \"H(t)\" nos dá uma ideia de qual era a velocidade de afastamento de objetos cósmicos em um determinado tempo 't'. Quando falamos da função de Hubble normalizada, estamos trabalhando só com a proporção desse valor com o valor medido atualmente, também conhecido como constante de Hubble (H0).\n",
    "\n",
    "$$E(t) \\equiv \\frac{H(t)}{H_0},$$\n",
    "\n",
    "A função 'E' do nosso modelo cosmológico tem como parâmetro de entrada o valor do redshift do momento que está sendo calculada. Por exemplo:"
   ]
  },
  {
   "cell_type": "code",
   "execution_count": 31,
   "id": "ef3b3ac0",
   "metadata": {},
   "outputs": [
    {
     "name": "stdout",
     "output_type": "stream",
     "text": [
      "E(z = 0): 1.0\n",
      "E(z = 1): 1.7609954124297043\n",
      "E(z = 1000): 19832.79755707815\n",
      "\n"
     ]
    }
   ],
   "source": [
    "print(f\"E(z = 0): {cosmo.E(0)}\\nE(z = 1): {cosmo.E(1)}\\nE(z = 1000): {cosmo.E(1000)}\\n\")"
   ]
  },
  {
   "cell_type": "code",
   "execution_count": 32,
   "id": "cca28251",
   "metadata": {},
   "outputs": [
    {
     "data": {
      "image/png": "[encoded data removed]",
      "text/plain": [
       "<Figure size 1008x504 with 1 Axes>"
      ]
     },
     "metadata": {
      "needs_background": "light"
     },
     "output_type": "display_data"
    }
   ],
   "source": [
    "plt.figure(figsize=(14,7))\n",
    "z_a = np.geomspace(1.0e-2, 1.0e4, num=400)\n",
    "E_a = np.array ([cosmo.E(z) for z in z_a])\n",
    "\n",
    "plt.plot(z_a, E_a, label=\"Função de Hubble Normalizada\")\n",
    "\n",
    "plt.xlabel(\"$z$\",fontsize=20)\n",
    "plt.ylabel(\"E($z$)\", fontsize=20)\n",
    "plt.legend(fontsize=25, loc=\"best\")\n",
    "plt.grid ()\n",
    "plt.show ()"
   ]
  },
  {
   "cell_type": "code",
   "execution_count": null,
   "id": "9dc02381",
   "metadata": {},
   "outputs": [],
   "source": []
  }
 ],
 "metadata": {
  "kernelspec": {
   "display_name": "Python 3 (ipykernel)",
   "language": "python",
   "name": "python3"
  },
  "language_info": {
   "codemirror_mode": {
    "name": "ipython",
    "version": 3
   },
   "file_extension": ".py",
   "mimetype": "text/x-python",
   "name": "python",
   "nbconvert_exporter": "python",
   "pygments_lexer": "ipython3",
   "version": "3.8.10"
  }
 },
 "nbformat": 4,
 "nbformat_minor": 5
}
